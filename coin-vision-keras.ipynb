{
 "cells": [
  {
   "cell_type": "code",
   "execution_count": null,
   "metadata": {},
   "outputs": [],
   "source": [
    "# TODO: log total run time, dataset info\n",
    "# TODO: show some images and histogram from test sequence"
   ]
  },
  {
   "cell_type": "code",
   "execution_count": null,
   "metadata": {},
   "outputs": [],
   "source": [
    "import numpy as np\n",
    "import os\n",
    "from random import shuffle\n",
    "import time\n",
    "import csv\n",
    "\n",
    "import matplotlib.pyplot as plt\n",
    "%matplotlib inline\n",
    "\n",
    "from keras import optimizers, losses, activations, applications\n",
    "from keras.models import Model, Sequential\n",
    "from keras.callbacks import ModelCheckpoint, LearningRateScheduler, EarlyStopping, ReduceLROnPlateau, TensorBoard\n",
    "from keras.layers import Convolution2D, Dense, Input, Flatten, Dropout, MaxPooling2D, BatchNormalization, GlobalAveragePooling2D, Concatenate\n",
    "from keras.preprocessing.image import ImageDataGenerator\n",
    "from keras.applications.inception_v3 import preprocess_input\n",
    "\n",
    "from skimage.transform import resize\n",
    "from sklearn.metrics import classification_report\n",
    "\n",
    "import tensorflow as tf\n",
    "from tensorflow.python.keras.callbacks import TensorBoard\n",
    "\n",
    "# used to download pretrained Inception V3 Keras Model\n",
    "import ssl\n",
    "ssl._create_default_https_context = ssl._create_unverified_context \n",
    "\n",
    "#DATA_DIR = \"/home/spa/coin-vision/ssd-data/all-68-20190123-keras-no-noise/\"\n",
    "#DATA_DIR = \"/home/spa/coin-vision/ssd-data/micro-25-20190204/\"\n",
    "DATA_DIR = \"/home/spa/coin-vision/ssd-data/mini-400-20190205/\"\n",
    "\n",
    "MODEL_LABELS_FILE_PATH = DATA_DIR + \"labels.txt\"\n",
    "MODEL_FILE_PATH = DATA_DIR + \"inception_v3_\" + time.strftime(\"%Y%m%d-%H%M%S\") + \".hdf5\"\n",
    "\n",
    "train_epochs=5\n",
    "ROWS=299\n",
    "COLS=299\n",
    "\n",
    "train_batch_size = 64\n",
    "validation_batch_size = 100\n",
    "\n",
    "\n",
    "\n",
    "tensorboard_log_dir = DATA_DIR + 'logs/'\n",
    "tensorboard = TensorBoard(log_dir=tensorboard_log_dir)\n",
    "\n",
    "print('tensorflow version', tf.__version__)\n",
    "print('TensorBoard log dir: ', tensorboard_log_dir)\n",
    "print('MODEL_FILE_PATH: ', MODEL_FILE_PATH)\n",
    "\n",
    "\n"
   ]
  },
  {
   "cell_type": "code",
   "execution_count": null,
   "metadata": {},
   "outputs": [],
   "source": [
    "list_paths = []\n",
    "for subdir, dirs, files in os.walk(DATA_DIR):\n",
    "    for file in files:\n",
    "        #print os.path.join(subdir, file)\n",
    "        filepath = subdir + os.sep + file\n",
    "        list_paths.append(filepath)"
   ]
  },
  {
   "cell_type": "code",
   "execution_count": null,
   "metadata": {},
   "outputs": [],
   "source": [
    "list_train = [filepath for filepath in list_paths if \"labeled-images-tr/\" in filepath]\n",
    "list_test = [filepath for filepath in list_paths if \"labeled-images-tst/\" in filepath]\n",
    "\n",
    "validation_steps = len(list_test) / validation_batch_size # images-in-test / val-batch-size\n",
    "\n",
    "# TODO: print amount train / test images"
   ]
  },
  {
   "cell_type": "code",
   "execution_count": null,
   "metadata": {},
   "outputs": [],
   "source": [
    "train_idg = ImageDataGenerator(\n",
    "                               vertical_flip=False,\n",
    "                               horizontal_flip=False,\n",
    "                               height_shift_range=0.1,\n",
    "                               width_shift_range=0.1,\n",
    "                               rotation_range=20,\n",
    "                               zoom_range=0.2,\n",
    "                               shear_range=0.2,\n",
    "                               preprocessing_function=preprocess_input)\n",
    "\n",
    "test_idg = ImageDataGenerator(preprocessing_function=preprocess_input)\n",
    "\n",
    "train_gen = train_idg.flow_from_directory(\n",
    "    DATA_DIR + 'labeled-images-tr/',\n",
    "    target_size=(ROWS, COLS),\n",
    "    batch_size = train_batch_size\n",
    ")\n",
    "test_gen = test_idg.flow_from_directory(\n",
    "    DATA_DIR + 'labeled-images-tst/',\n",
    "    target_size=(ROWS, COLS),\n",
    "    batch_size = validation_batch_size,\n",
    "    shuffle = True\n",
    ")\n"
   ]
  },
  {
   "cell_type": "code",
   "execution_count": null,
   "metadata": {},
   "outputs": [],
   "source": [
    "#labels"
   ]
  },
  {
   "cell_type": "code",
   "execution_count": null,
   "metadata": {},
   "outputs": [],
   "source": [
    "labels = test_gen.class_indices.items()\n",
    "\n",
    "# save to file (is used during prediction)\n",
    "with open(MODEL_LABELS_FILE_PATH, 'w') as outfile:\n",
    "    w = csv.writer(outfile)\n",
    "    for key, value in labels:\n",
    "        w.writerow([key, str(value)])\n",
    "\n",
    "# load from file (to make sure same labels are used during train & prediction)\n",
    "with open(MODEL_LABELS_FILE_PATH, mode='r') as infile:\n",
    "    reader = csv.reader(infile)\n",
    "    labels = {rows[0]:int(float(rows[1])) for rows in reader}\n",
    "    \n",
    "labels = labels.items()    "
   ]
  },
  {
   "cell_type": "code",
   "execution_count": null,
   "metadata": {},
   "outputs": [],
   "source": [
    "# get a batch sample from training set generator to show sample images and histogram\n",
    "x,y = train_gen.next()"
   ]
  },
  {
   "cell_type": "code",
   "execution_count": null,
   "metadata": {
    "scrolled": false
   },
   "outputs": [],
   "source": [
    "#show some images from train set\n",
    "# rescale for better view: [-1:1] => [0:255]\n",
    "img_to_plot_uint8 = (127.5*(x + 1)).astype(np.uint8)\n",
    "fig=plt.figure(figsize=(20, 20))\n",
    "columns = 4\n",
    "rows = 5\n",
    "for i in range(1, columns*rows +1):\n",
    "    fig.add_subplot(rows, columns, i)\n",
    "    plt.imshow(img_to_plot_uint8[i])\n",
    "plt.show()"
   ]
  },
  {
   "cell_type": "code",
   "execution_count": null,
   "metadata": {},
   "outputs": [],
   "source": [
    "# show histogram for one sample used for training\n",
    "print('show histogram for a train image')\n",
    "n, bins, patches = plt.hist(x[0,:,:,1].reshape(ROWS, COLS), 25, density=1, facecolor='green', alpha=0.75)\n",
    "plt.show()"
   ]
  },
  {
   "cell_type": "code",
   "execution_count": null,
   "metadata": {},
   "outputs": [],
   "source": [
    "\n",
    "input_shape = (ROWS, COLS, 3)\n",
    "nclass = len(labels)\n",
    "\n",
    "base_model = applications.InceptionV3(weights='imagenet', \n",
    "                                include_top=False, \n",
    "                                input_shape=(ROWS, COLS,3))\n",
    "base_model.trainable = True\n",
    "\n",
    "add_model = Sequential()\n",
    "add_model.add(base_model)\n",
    "add_model.add(GlobalAveragePooling2D())\n",
    "#add_model.add(Dropout(0.3))\n",
    "add_model.add(Dense(nclass, \n",
    "                    activation='softmax'))\n",
    "\n",
    "model = add_model\n",
    "\n",
    "model.compile(loss='categorical_crossentropy', \n",
    "              optimizer='adam',\n",
    "              metrics=['accuracy', 'top_k_categorical_accuracy'])\n",
    "model.summary()"
   ]
  },
  {
   "cell_type": "code",
   "execution_count": null,
   "metadata": {},
   "outputs": [],
   "source": [
    "# LOAD MODEL\n",
    "#model.load_weights(file_path)\n",
    "\n",
    "tr_steps_per_epoch = len(list_train) / train_batch_size\n",
    "print('trainig steps per epoc: ', tr_steps_per_epoch)\n",
    "\n",
    "\n",
    "checkpoint = ModelCheckpoint(MODEL_FILE_PATH, monitor='acc', verbose=1, save_best_only=False, mode='max')\n",
    "\n",
    "early = EarlyStopping(monitor=\"acc\", mode=\"max\", patience=5)\n",
    "\n",
    "callbacks_list = [checkpoint, early, tensorboard] #early\n",
    "\n",
    "history = model.fit_generator(train_gen, \n",
    "                              epochs=train_epochs, \n",
    "                              steps_per_epoch=tr_steps_per_epoch,\n",
    "                              shuffle=True, \n",
    "                              verbose=True,\n",
    "                              validation_data=test_gen,\n",
    "                              validation_steps=validation_steps, # fix me later if works\n",
    "                              callbacks=callbacks_list)"
   ]
  },
  {
   "cell_type": "code",
   "execution_count": null,
   "metadata": {},
   "outputs": [],
   "source": [
    "# RELOAD MODEL from the file (to make sure we use the same model for test/predictions)\n",
    "model.load_weights(MODEL_FILE_PATH)\n"
   ]
  },
  {
   "cell_type": "code",
   "execution_count": null,
   "metadata": {},
   "outputs": [],
   "source": [
    "# test_gen_final uses same test data as test_idg. The difference is class_mode='binary' (test_idg uses class_mode='categorical' )\n",
    "test_gen_final = test_idg.flow_from_directory(\n",
    "    DATA_DIR + 'labeled-images-tst/',\n",
    "    target_size=(ROWS, COLS),\n",
    "    batch_size = 100,\n",
    "    shuffle = False,\n",
    "    class_mode='binary'\n",
    ")\n"
   ]
  },
  {
   "cell_type": "code",
   "execution_count": null,
   "metadata": {},
   "outputs": [],
   "source": [
    "steps = 1040\n",
    "predicts_label_acc = []\n",
    "y_true_label_acc = []\n",
    "\n",
    "# TODO: show some images and histogram from test sequence \n",
    "\n",
    "for step in range(steps):\n",
    "    x_test,y_true = test_gen_final.next()\n",
    "    predicts = model.predict_classes(x_test)\n",
    "    label_index = {v: k for k,v in labels}\n",
    "    predicts_label = [label_index[p] for p in predicts]\n",
    "    y_true_label = [label_index[p] for p in y_true]\n",
    "    predicts_label_acc.extend(predicts_label)\n",
    "    y_true_label_acc.extend(y_true_label)\n",
    "    print(\"done \", step, \" from \", steps)\n",
    "\n"
   ]
  },
  {
   "cell_type": "code",
   "execution_count": null,
   "metadata": {
    "scrolled": true
   },
   "outputs": [],
   "source": [
    "print(classification_report(predicts_label_acc,y_true_label_acc))\n"
   ]
  },
  {
   "cell_type": "code",
   "execution_count": null,
   "metadata": {},
   "outputs": [],
   "source": [
    "len(list_test)"
   ]
  },
  {
   "cell_type": "code",
   "execution_count": null,
   "metadata": {},
   "outputs": [],
   "source": []
  }
 ],
 "metadata": {
  "kernelspec": {
   "display_name": "Python 3",
   "language": "python",
   "name": "python3"
  },
  "language_info": {
   "codemirror_mode": {
    "name": "ipython",
    "version": 3
   },
   "file_extension": ".py",
   "mimetype": "text/x-python",
   "name": "python",
   "nbconvert_exporter": "python",
   "pygments_lexer": "ipython3",
   "version": "3.6.1"
  }
 },
 "nbformat": 4,
 "nbformat_minor": 2
}
